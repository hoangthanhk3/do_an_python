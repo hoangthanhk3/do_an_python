{
  "nbformat": 4,
  "nbformat_minor": 0,
  "metadata": {
    "colab": {
      "provenance": [],
      "authorship_tag": "ABX9TyOZLDlaJujnd/SJo0NDZMGb",
      "include_colab_link": true
    },
    "kernelspec": {
      "name": "python3",
      "display_name": "Python 3"
    },
    "language_info": {
      "name": "python"
    }
  },
  "cells": [
    {
      "cell_type": "markdown",
      "metadata": {
        "id": "view-in-github",
        "colab_type": "text"
      },
      "source": [
        "<a href=\"https://colab.research.google.com/github/hoangthanhk3/do_an_python/blob/main/lap_trinh_ham.ipynb\" target=\"_parent\"><img src=\"https://colab.research.google.com/assets/colab-badge.svg\" alt=\"Open In Colab\"/></a>"
      ]
    },
    {
      "cell_type": "code",
      "execution_count": null,
      "metadata": {
        "id": "1ePXUyvCdXtl"
      },
      "outputs": [],
      "source": [
        "# Hàm sinh ngẫu nhiên list các số thực\n",
        "import random\n",
        "def sinh_list(a,b,n):\n",
        "  x = [(b - a)*random.random() + a for i in range(n)]\n",
        "  return x\n",
        "# Hàm sắp xếp list các số thực\n",
        "def sap_xep_giam_dan(x):\n",
        "  v1 = sorted(x, reverse=True)\n",
        "  print('list giảm dần', v1)\n",
        "  return v1\n",
        "def sap_xep_tang_dan(x):\n",
        "  v2 = sorted(x, reverse=False)\n",
        "  print('list tăng dần', v2)\n",
        "  return v2\n",
        "def sap_xep(x, reverse):\n",
        "  if reverse == True:\n",
        "    return sap_xep_tang_dan(x)\n",
        "  else:\n",
        "    return sap_xep_giam_dan(x)\n",
        "# Hàm tìm kiếm số n trong list\n",
        "def tim_kiem_1(n, x):\n",
        "  flag = False\n",
        "  for i in range(len(x)):\n",
        "    if x[i] == n:\n",
        "      print('Vị trí có giá trị bằng n trong list', i)\n",
        "      x.append(i)\n",
        "      flag = True\n",
        "    if flag == False:\n",
        "      print('Không tìm thấy n trong list')\n",
        "# Hàm tìm kiếm số n trong list theo chiều giảm dần\n",
        "def tim_kiem_2(sap_xep_giam_dan):\n",
        "  flag = False\n",
        "  for i in range(len(x)):\n",
        "    if x[i] == n:\n",
        "      print('Vị trí có giá trị bằng n trong list', i)\n",
        "      x.append(i)\n",
        "      flag = True\n",
        "    if flag == False:\n",
        "      print('Không tìm thấy n trong list')\n",
        "# Hàm lưu list vào tập tin\n",
        "import os\n",
        "import pickle\n",
        "def tap_tin_van_ban(x):\n",
        "  path = 'C:\\\\thanh\\\\Data'\n",
        "  filename = 'thanh.txt'\n",
        "  with open(os.path.join(path, filename), 'w') as f:\n",
        "    f.write(x)\n",
        "    print('Kết thúc chương trình lưu tập tin')\n",
        "def tap_tin_nhi_phan(x):\n",
        "  path = 'C:\\\\thanh\\\\Data'\n",
        "  filename = 'thanh.dat'\n",
        "  with open(os.path.join(path, filename), 'wb') as f:\n",
        "    pickle.dump(x,f)\n",
        "    print('Kết thúc chương trình lưu tập tin')\n",
        "# Hàm lưu tập tin văn bản của list theo chiều giảm dần\n",
        "def tap_tin_van_ban(sap_xep_giam_dan):\n",
        "  path = 'C:\\\\thanh\\\\Data'\n",
        "  filename = 'thanh.txt'\n",
        "  with open(os.path.join(path, filename), 'w') as f:\n",
        "    f.write(sap_xep_giam_dan)\n",
        "    print('Kết thúc chương trình lưu tập tin')\n",
        "# Chương trình chính\n",
        "def main():\n",
        "  sinh_list(a, b, n)\n",
        "  print(x)\n",
        "  tap_tin_van_ban(x)\n",
        "  sap_xep_giam_dan(x)\n",
        "  tap_tin_van_ban(sap_xep_giam_dan)\n",
        "  tim_kiem_2(sap_xep_giam_dan)\n",
        "if __name__ == '__main__':\n",
        "  main()"
      ]
    }
  ]
}