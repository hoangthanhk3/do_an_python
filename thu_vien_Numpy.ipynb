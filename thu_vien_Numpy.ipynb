{
  "nbformat": 4,
  "nbformat_minor": 0,
  "metadata": {
    "colab": {
      "provenance": [],
      "authorship_tag": "ABX9TyMEp3nhbiPgulWU75zCDVh6",
      "include_colab_link": true
    },
    "kernelspec": {
      "name": "python3",
      "display_name": "Python 3"
    },
    "language_info": {
      "name": "python"
    }
  },
  "cells": [
    {
      "cell_type": "markdown",
      "metadata": {
        "id": "view-in-github",
        "colab_type": "text"
      },
      "source": [
        "<a href=\"https://colab.research.google.com/github/hoangthanhk3/do_an_python/blob/main/thu_vien_Numpy.ipynb\" target=\"_parent\"><img src=\"https://colab.research.google.com/assets/colab-badge.svg\" alt=\"Open In Colab\"/></a>"
      ]
    },
    {
      "cell_type": "code",
      "execution_count": null,
      "metadata": {
        "id": "-hJU-ojIcott"
      },
      "outputs": [],
      "source": [
        "# Tính tích giữa vectơ và ma trận\n",
        "import numpy as np\n",
        "def sinh_vecto(a,b,n):\n",
        "  x = (b - a)*np.random.random_sample(n) + a\n",
        "  return x\n",
        "def sinh_ma_tran(a,b,c,n):\n",
        "  A = np.random.uniform(low=a,high=b,size=c*n).reshape((c,n))\n",
        "  return A\n",
        "def tich_vecto_va_matran(x,A):\n",
        "  tich = np.dot(x,A)\n",
        "  return tich\n",
        "# Phép nhân Hadamard và tích ma trận chuyển vị với ma trận\n",
        "import numpy as np\n",
        "def hadamard_2_mt(A,B):\n",
        "  tich_hadamard = np.multiply(A,B)\n",
        "  return tich_hadamard\n",
        "def tich_2_mt(A,B):\n",
        "  A_chuyenvi = A.T\n",
        "  tich = np.dot(A_chuyenvi,B)\n",
        "  return tich\n",
        "# Chương trình chính\n",
        "def main():\n",
        "  tich_vecto_va_matran(x,A)\n",
        "  hadamard_2_mt(A,B)\n",
        "  tich_2_mt(A,B)\n",
        "if __name__ == '__main__':\n",
        "  main()"
      ]
    }
  ]
}