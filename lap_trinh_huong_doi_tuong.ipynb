{
  "nbformat": 4,
  "nbformat_minor": 0,
  "metadata": {
    "colab": {
      "provenance": [],
      "authorship_tag": "ABX9TyO/lvLEdENOjcVoBRDUJR4O",
      "include_colab_link": true
    },
    "kernelspec": {
      "name": "python3",
      "display_name": "Python 3"
    },
    "language_info": {
      "name": "python"
    }
  },
  "cells": [
    {
      "cell_type": "markdown",
      "metadata": {
        "id": "view-in-github",
        "colab_type": "text"
      },
      "source": [
        "<a href=\"https://colab.research.google.com/github/hoangthanhk3/do_an_python/blob/main/lap_trinh_huong_doi_tuong.ipynb\" target=\"_parent\"><img src=\"https://colab.research.google.com/assets/colab-badge.svg\" alt=\"Open In Colab\"/></a>"
      ]
    },
    {
      "cell_type": "code",
      "execution_count": null,
      "metadata": {
        "id": "k8YajolKb2Je"
      },
      "outputs": [],
      "source": [
        "# Thiết kế lớp và nhập dữ liệu cho list đối tượng\n",
        "class NhanVien:\n",
        "  def __init__(self,fullname,age,salary):\n",
        "    self.hoten = fullname\n",
        "    self.tuoi = age\n",
        "    self.luong = salary\n",
        "  def __str__(self):\n",
        "    message= '[hoten:'+self.hoten+',tuổi:'+str(self.tuoi)+',lương:'+str(self.luong)+']'\n",
        "    return message\n",
        "  def __gt__(self,obj):\n",
        "    return(self.tuoi>obj.tuoi)\n",
        "  def __ge__(self,obj):\n",
        "    return(self.tuoi>=obj.tuoi)\n",
        "  def __lt__(self,obj):\n",
        "    return(self.tuoi<obj.tuoi)\n",
        "  def __le__(self,obj):\n",
        "    return(self.tuoi<=obj.tuoi)\n",
        "  def __eq__(self,obj):\n",
        "    return(self.tuoi==obj.tuoi)\n",
        "# Hiển thị và sắp xếp đối tượng\n",
        "def hien_thi_doi_tuong(nv):\n",
        "  for item in nv:\n",
        "  print(item)\n",
        "def sap_xep_doi_tuong(nv):\n",
        "  nv = sorted(nv, converse=True)\n",
        "  return nv\n",
        "# Lưu list đối tượng vào tập tin nhị phân\n",
        "import os\n",
        "import pickle\n",
        "def luu_list_doi_tuong(nv):\n",
        "  path = 'C:\\\\thanh\\\\Data'\n",
        "  filename = 'thanhk3.dat'\n",
        "  with open(os.path.join(path, filename), 'wb') as f:\n",
        "    pickle.dump(nv, f)\n",
        "    print('Kết thúc chương trình')\n",
        "# Đọc list đối tượng từ tập tin nhị phân\n",
        "import os\n",
        "import pickle\n",
        "def doc_list_doi_tuong(nv):\n",
        "  path = 'C:\\\\thanh\\\\Data'\n",
        "  filename = 'thanhk3.dat'\n",
        "  with open(os.path.join(path, filename), 'rb') as f:\n",
        "    pickle.load(nv, f)\n",
        "    print('Kết thúc chương trình')\n",
        "# Chương trình chính\n",
        "def main():\n",
        "  hien_thi_doi_tuong(nv)\n",
        "  sap_xep_doi_tuong(nv)\n",
        "  luu_list_doi_tuong(nv)\n",
        "  doc_list_doi_tuong(nv)\n",
        "if __name__='__main__':\n",
        "  main()"
      ]
    }
  ]
}