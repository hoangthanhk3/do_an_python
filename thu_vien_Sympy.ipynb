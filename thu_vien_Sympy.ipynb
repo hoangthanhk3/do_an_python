{
  "nbformat": 4,
  "nbformat_minor": 0,
  "metadata": {
    "colab": {
      "provenance": [],
      "authorship_tag": "ABX9TyOP2sj+cO5SD8ZfG75YEzRs",
      "include_colab_link": true
    },
    "kernelspec": {
      "name": "python3",
      "display_name": "Python 3"
    },
    "language_info": {
      "name": "python"
    }
  },
  "cells": [
    {
      "cell_type": "markdown",
      "metadata": {
        "id": "view-in-github",
        "colab_type": "text"
      },
      "source": [
        "<a href=\"https://colab.research.google.com/github/hoangthanhk3/do_an_python/blob/main/thu_vien_Sympy.ipynb\" target=\"_parent\"><img src=\"https://colab.research.google.com/assets/colab-badge.svg\" alt=\"Open In Colab\"/></a>"
      ]
    },
    {
      "cell_type": "code",
      "execution_count": null,
      "metadata": {
        "id": "znAt2EpNc44h"
      },
      "outputs": [],
      "source": [
        "# Giải hệ phương trình\n",
        "from sympy import symbols, Eq, solve\n",
        "def giai_he_pt_ba_an():\n",
        "  x, y, z = symbols('x y z')\n",
        "  eq1 = Eq(2*x - 5*y + z , -5)\n",
        "  eq2 = Eq(4*x + 2*y - 2*z , 2)\n",
        "  eq3 = Eq(x + y - z , 0)\n",
        "  ketqua2_2_1 = solve((eq1,eq2,eq3),(x,y,z))\n",
        "  return ketqua2_2_1\n",
        "# Tính giới hạn\n",
        "from sympy import *\n",
        "def tinh_gioi_han():\n",
        "  x = symbols('x')\n",
        "  f = ((x**3 - 3*x**2)**(1/3) + sqrt(x**2 - 2*x))\n",
        "  ketqua2_2_2 = limit(f,x,oo)\n",
        "  return ketqua2_2_2\n",
        "# Tính đạo hàm\n",
        "from sympy import *\n",
        "def tinh_dao_ham():\n",
        "  x = symbols('x')\n",
        "  f = (2*x-1)/(x+2)\n",
        "  ketqua2_2_3 = diff(f,x)\n",
        "  return ketqua2_2_3\n",
        "# Tính nguyên hàm\n",
        "from sympy import *\n",
        "def tinh_nguyen_ham():\n",
        "  x = symbols('x')\n",
        "  f = x / (x**2+1)\n",
        "  ketqua2_2_4 = integrate(f,x)\n",
        "  return ketqua2_2_4\n",
        "# Tính tích phân\n",
        "from sympy import *\n",
        "def tinh_tich_phan():\n",
        "  x = symbols('x')\n",
        "  f = (1-x*tan(x))/(x**2*cos(x)+x)\n",
        "  ketqua2_2_5 = integrate(f,(x,(2*pi)/3,pi))\n",
        "  return ketqua2_2_5\n",
        "# Chương trình chính\n",
        "def main():\n",
        "  giai_he_pt_ba_an()\n",
        "  tinh_gioi_han()\n",
        "  tinh_dao_ham()\n",
        "  tinh_nguyen_ham()\n",
        "  tinh_tich_phan()\n",
        "if __name__ == '__main__':\n",
        "  main()"
      ]
    }
  ]
}